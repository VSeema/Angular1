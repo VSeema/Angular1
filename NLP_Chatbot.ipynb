{
  "nbformat": 4,
  "nbformat_minor": 0,
  "metadata": {
    "colab": {
      "name": "NLP_Chatbot.ipynb",
      "provenance": [],
      "collapsed_sections": [],
      "mount_file_id": "1p6wz-YgCRw9sBsWNbwUUw2PiKbx5NC2O",
      "authorship_tag": "ABX9TyOmH1jkjoSYBIVUdGVmpn/W",
      "include_colab_link": true
    },
    "kernelspec": {
      "name": "python3",
      "display_name": "Python 3"
    }
  },
  "cells": [
    {
      "cell_type": "markdown",
      "metadata": {
        "id": "view-in-github",
        "colab_type": "text"
      },
      "source": [
        "<a href=\"https://colab.research.google.com/github/VSeema/Angular1/blob/master/NLP_Chatbot.ipynb\" target=\"_parent\"><img src=\"https://colab.research.google.com/assets/colab-badge.svg\" alt=\"Open In Colab\"/></a>"
      ]
    },
    {
      "cell_type": "code",
      "metadata": {
        "id": "9cI6mnhZ9PaB"
      },
      "source": [
        "import nltk\r\n",
        "import io\r\n",
        "import numpy as np\r\n",
        "import random\r\n",
        "import string\r\n",
        "import bs4 as bs\r\n",
        "import urllib.request\r\n",
        "import re\r\n",
        "import warnings\r\n",
        "warnings.filterwarnings('ignore')"
      ],
      "execution_count": 1,
      "outputs": []
    },
    {
      "cell_type": "code",
      "metadata": {
        "colab": {
          "base_uri": "https://localhost:8080/"
        },
        "id": "TKY03vSq9Vrz",
        "outputId": "1da76ca0-5139-4e99-a52d-476d47b28654"
      },
      "source": [
        "f=open(r\"global.txt\",\"r\",errors=\"ignore\")\r\n",
        "raw=f.read()\r\n",
        "raw=raw.lower()\r\n",
        "nltk.download('punkt')\r\n",
        "nltk.download('wordnet')"
      ],
      "execution_count": 2,
      "outputs": [
        {
          "output_type": "stream",
          "text": [
            "[nltk_data] Downloading package punkt to /root/nltk_data...\n",
            "[nltk_data]   Unzipping tokenizers/punkt.zip.\n",
            "[nltk_data] Downloading package wordnet to /root/nltk_data...\n",
            "[nltk_data]   Unzipping corpora/wordnet.zip.\n"
          ],
          "name": "stdout"
        },
        {
          "output_type": "execute_result",
          "data": {
            "text/plain": [
              "True"
            ]
          },
          "metadata": {
            "tags": []
          },
          "execution_count": 2
        }
      ]
    },
    {
      "cell_type": "code",
      "metadata": {
        "id": "GhRYnlUR9vS-"
      },
      "source": [
        "sent_token=nltk.sent_tokenize(raw)\r\n",
        "word_token=nltk.word_tokenize(raw)"
      ],
      "execution_count": 3,
      "outputs": []
    },
    {
      "cell_type": "code",
      "metadata": {
        "colab": {
          "base_uri": "https://localhost:8080/"
        },
        "id": "t3pOp5fc9zec",
        "outputId": "c1437363-2609-41d7-e30d-3ad8643577d9"
      },
      "source": [
        "sent_token[:2]"
      ],
      "execution_count": 4,
      "outputs": [
        {
          "output_type": "execute_result",
          "data": {
            "text/plain": [
              "['breast cancer is cancer that develops from breast tissue.',\n",
              " '[7] signs of breast cancer may include a lump in the breast, a change in breast shape, dimpling of the skin, fluid coming from the nipple, a newly-inverted nipple, or a red or scaly patch of skin.']"
            ]
          },
          "metadata": {
            "tags": []
          },
          "execution_count": 4
        }
      ]
    },
    {
      "cell_type": "code",
      "metadata": {
        "colab": {
          "base_uri": "https://localhost:8080/"
        },
        "id": "AEZdrvlh9176",
        "outputId": "771c9a78-5007-4ca6-ff55-42aec48e4dd9"
      },
      "source": [
        "word_token[:10]"
      ],
      "execution_count": 6,
      "outputs": [
        {
          "output_type": "execute_result",
          "data": {
            "text/plain": [
              "['breast',\n",
              " 'cancer',\n",
              " 'is',\n",
              " 'cancer',\n",
              " 'that',\n",
              " 'develops',\n",
              " 'from',\n",
              " 'breast',\n",
              " 'tissue',\n",
              " '.']"
            ]
          },
          "metadata": {
            "tags": []
          },
          "execution_count": 6
        }
      ]
    },
    {
      "cell_type": "code",
      "metadata": {
        "id": "h61rq_Q895Z-"
      },
      "source": [
        "lemmer=nltk.stem.WordNetLemmatizer()\r\n",
        "def LemTokens(tokens):\r\n",
        "    return [lemmer.lemmatize(token) for token in tokens]\r\n",
        "remove_punct_dict=dict((ord(punct),None) for punct in string.punctuation)\r\n",
        "def LemNormalize(text):\r\n",
        "    return LemTokens(nltk.word_tokenize(text.lower().translate(remove_punct_dict)))"
      ],
      "execution_count": 8,
      "outputs": []
    },
    {
      "cell_type": "code",
      "metadata": {
        "id": "Z_r6N4vI9_gn"
      },
      "source": [
        "GREETING_INPUTS=(\"hello\",\"hi\",\"greetings\",\"sup\",\"what's up\",\"hey\",\"how are you?\",\"fine\")\r\n",
        "GREETING_RESPONSES=[\"hi\",\"hay\",\"*nods*\",\"hi there\",\"hello\",\"I am glad! you are talking to me\"]\r\n",
        "def greeting(sentence):\r\n",
        "    for word in sentence.split():\r\n",
        "        if word.lower() in GREETING_INPUTS:\r\n",
        "            return random.choice(GREETING_RESPONSES)"
      ],
      "execution_count": 9,
      "outputs": []
    },
    {
      "cell_type": "code",
      "metadata": {
        "id": "4N304A8F-G51"
      },
      "source": [
        "from sklearn.feature_extraction.text import TfidfVectorizer\r\n",
        "from sklearn.metrics.pairwise import cosine_similarity"
      ],
      "execution_count": 10,
      "outputs": []
    },
    {
      "cell_type": "code",
      "metadata": {
        "id": "A_ka_a0f-J5Z"
      },
      "source": [
        "def response(user_response):\r\n",
        "    chatbot_response=''\r\n",
        "    sent_token.append(user_response)\r\n",
        "    TfidfVec=TfidfVectorizer(tokenizer=LemNormalize,stop_words='english')\r\n",
        "    tfidf=TfidfVec.fit_transform(sent_token)\r\n",
        "    vals=cosine_similarity(tfidf[-1],tfidf)\r\n",
        "    idx=vals.argsort()[0][-2]\r\n",
        "    flat=vals.flatten()\r\n",
        "    flat.sort()\r\n",
        "    req_tfidf=flat[-2]\r\n",
        "    if(req_tfidf==0):\r\n",
        "        chatbot_response=chatbot_response+\"I am sorry! I don't understand you\"\r\n",
        "        return chatbot_response\r\n",
        "    else:\r\n",
        "        chatbot_response=chatbot_response+sent_token[idx]\r\n",
        "        return chatbot_response"
      ],
      "execution_count": 11,
      "outputs": []
    },
    {
      "cell_type": "code",
      "metadata": {
        "colab": {
          "base_uri": "https://localhost:8080/"
        },
        "id": "-_2xM0vD-NMb",
        "outputId": "e0c21007-90d3-498a-bd9e-257a978197c1"
      },
      "source": [
        "flag=True\r\n",
        "print(\"my name is chatbot and you can ask me any questions regarding breast cancer! if you want to exit type bye\")\r\n",
        "while(flag==True):\r\n",
        "    user_response=input()\r\n",
        "    user_response=user_response.lower()\r\n",
        "    if(user_response!=\"bye\"):\r\n",
        "        if(user_response==\"thanks\" or user_response==\"thank you\"):\r\n",
        "            flag=False\r\n",
        "            print(\"chatbot: You are welcome\")\r\n",
        "        else:\r\n",
        "            if(greeting(user_response)!=None):\r\n",
        "                print(\"chatbot: \"+greeting(user_response))\r\n",
        "            else:\r\n",
        "                print(\"chatbot: \",end=\"\")\r\n",
        "                print(response(user_response))\r\n",
        "                sent_token.remove(user_response)\r\n",
        "    else:\r\n",
        "        flag=False\r\n",
        "        print(\"Bye take care!\")"
      ],
      "execution_count": null,
      "outputs": [
        {
          "output_type": "stream",
          "text": [
            "my name is chatbot and you can ask me any questions regarding breast cancer! if you want to exit type bye\n",
            "hi\n",
            "chatbot: hay\n",
            "what is breast cancer?\n",
            "chatbot: breast cancer is cancer that develops from breast tissue.\n",
            "what about diagnosis?\n",
            "chatbot: as inflammatory breast cancer does not present as a lump there can sometimes be a delay in diagnosis.\n",
            "what are the symptoms?\n",
            "chatbot: these symptoms are called non-specific symptoms because they could be manifestations of many other illnesses.\n",
            "what is smile?\n",
            "chatbot: I am sorry! I don't understand you\n"
          ],
          "name": "stdout"
        }
      ]
    },
    {
      "cell_type": "code",
      "metadata": {
        "id": "Omg9wVJW-SyA"
      },
      "source": [
        ""
      ],
      "execution_count": null,
      "outputs": []
    }
  ]
}